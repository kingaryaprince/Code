{
 "cells": [
  {
   "cell_type": "code",
   "execution_count": 1,
   "metadata": {},
   "outputs": [],
   "source": [
    "\n",
    "import numpy as np\n",
    "import pandas as pd\n",
    "from sklearn import preprocessing, neighbors\n",
    "import sklearn.model_selection"
   ]
  },
  {
   "cell_type": "code",
   "execution_count": 2,
   "metadata": {},
   "outputs": [
    {
     "name": "stderr",
     "output_type": "stream",
     "text": [
      "C:\\Users\\kinga\\AppData\\Local\\Temp\\ipykernel_42028\\2265448921.py:3: FutureWarning: In a future version of pandas all arguments of DataFrame.drop except for the argument 'labels' will be keyword-only.\n",
      "  x = cancer.drop(cancer.columns[[0,10]],1)\n"
     ]
    }
   ],
   "source": [
    "cancer = pd.read_csv('breast-cancer-wisconsin.data',na_values = '?')\n",
    "cancer = cancer.dropna()\n",
    "x = cancer.drop(cancer.columns[[0,10]],1)\n",
    "y = cancer.iloc[:,10]\n",
    "x = preprocessing.scale(x)\n",
    "\n",
    "\n",
    "\n",
    "\n",
    "\n",
    "X_train, x_test, Y_train, y_test = sklearn.model_selection.train_test_split(x,y, test_size = .2)\n"
   ]
  },
  {
   "cell_type": "code",
   "execution_count": 3,
   "metadata": {},
   "outputs": [
    {
     "name": "stdout",
     "output_type": "stream",
     "text": [
      "0.9635036496350365\n",
      "[4]\n"
     ]
    }
   ],
   "source": [
    "classifier = neighbors.KNeighborsClassifier()\n",
    "classifier.fit(X_train,Y_train)\n",
    "accuracy = classifier.score(x_test,y_test)\n",
    "print(accuracy)\n",
    "\n",
    "result = classifier.predict([[10,7,7,3,8,5,7,4,3]])\n",
    "print(result)"
   ]
  }
 ],
 "metadata": {
  "kernelspec": {
   "display_name": "Python 3",
   "language": "python",
   "name": "python3"
  },
  "language_info": {
   "codemirror_mode": {
    "name": "ipython",
    "version": 3
   },
   "file_extension": ".py",
   "mimetype": "text/x-python",
   "name": "python",
   "nbconvert_exporter": "python",
   "pygments_lexer": "ipython3",
   "version": "3.10.5"
  },
  "orig_nbformat": 4,
  "vscode": {
   "interpreter": {
    "hash": "a032ba9debc6624411fb963070501b5baba635e6f0637d6db6c657aa6b18aa01"
   }
  }
 },
 "nbformat": 4,
 "nbformat_minor": 2
}
